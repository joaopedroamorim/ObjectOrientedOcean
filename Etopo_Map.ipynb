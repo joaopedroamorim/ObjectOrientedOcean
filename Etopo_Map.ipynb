{
 "cells": [
  {
   "cell_type": "markdown",
   "id": "9b05bf52",
   "metadata": {},
   "source": [
    "# Etopo with OOP\n",
    "## Creating a class with a bathymetric map\n",
    "\n",
    "In this code I use objected-oriented programming to easy-go mapping functions with etopo database"
   ]
  },
  {
   "cell_type": "code",
   "execution_count": 1,
   "id": "607a542c",
   "metadata": {},
   "outputs": [],
   "source": [
    "import netCDF4 as nc\n",
    "import numpy as np\n",
    "import matplotlib.pyplot as plt\n",
    "import pandas as pd\n",
    "import seawater as sw\n",
    "import scipy.io as sio\n",
    "from glob import glob"
   ]
  },
  {
   "cell_type": "markdown",
   "id": "beb1248f",
   "metadata": {},
   "source": [
    "The class \"BaseEtopo\" is generated exclusively to work with a .mat file containg bathymetric data\n",
    "\n",
    "Inside this class, there are some useful tools as \"Point\" and \"Transect\" which are used to retrieve informations about the depth of a given point or a list of points, respectively."
   ]
  },
  {
   "cell_type": "code",
   "execution_count": 2,
   "id": "a6b8fdae",
   "metadata": {},
   "outputs": [],
   "source": [
    "def fnear(array, value):\n",
    "    array = np.asarray(array)\n",
    "    idx = np.nanargmin((np.abs(array - value)))\n",
    "    return idx\n",
    "\n",
    "\n",
    "### Creating my class\n",
    "class BaseEtopo():\n",
    "    def __init__(self,filedir):\n",
    "        self.file = filedir\n",
    "        self.content = sio.loadmat(self.file)['bat']\n",
    "        self.batz = self.content[0][0][2]\n",
    "        self.latz = self.content[0][0][1]\n",
    "        self.lonz = self.content[0][0][0]\n",
    "        \n",
    "    def Transect(self,lon,lat):\n",
    "        if len(lon) != len(lat) or len(lon)==1:\n",
    "            print('Transect lat and lon must have the same size and be greater than one single point')\n",
    "            print('If you are looking for a single point, consider using \"Point\" object')\n",
    "        else:\n",
    "            transect_depth = []\n",
    "            for x in range(len(lon)):\n",
    "                iy = fnear(self.lonz,lon[x])\n",
    "                ix = fnear(self.latz,lat[x])\n",
    "                transect_depth.append(self.batz[ix,iy])\n",
    "            return np.array(transect_depth),lon,lat\n",
    "    \n",
    "    def Point(self,lon,lat):\n",
    "        if len(lon) != 1 or len(lat) != 1:\n",
    "            print('Point object must have only one lat/lon data')\n",
    "            print('If you are looking for a transect, consider using \"Transect\" object')\n",
    "        else:\n",
    "            iy = fnear(self.lonz,lon)\n",
    "            ix = fnear(self.latz,lat)\n",
    "            return self.batz[ix,iy],lon,lat\n",
    "        \n",
    "        \n",
    "    def Adjustgrid(self,long,latg):\n",
    "        self.lon = long\n",
    "        self.lat = latg\n",
    "        \n",
    "        gradevarx,gradevary = np.meshgrid(self.lon,self.lat)\n",
    "        \n",
    "        ilob = np.where((self.lonz >= np.nanmin(self.lon)-1) & (self.lonz <= np.nanmax(self.lon)+1))[0]\n",
    "        ilab = np.where((self.latz >= np.nanmin(self.lat)-1) & (self.latz <= np.nanmax(self.lat)+1))[0]\n",
    "        lonb = self.lonz[ilob]\n",
    "        latb = self.latz[ilab]\n",
    "        xbat,ybat = np.meshgrid(lonb,latb)\n",
    "        batg = self.batz[ilab[0]:ilab[-1]+1,ilob[0]:ilob[-1]+1]\n",
    "        gridedbat = griddata((np.ravel(xbat),np.ravel(ybat)),np.ravel(batg),(np.ravel(gradevarx),np.ravel(gradevary)))\n",
    "        gridedbat = np.reshape(gridedbat,np.shape(gradevarx))\n",
    "        self.gridx = gradevarx\n",
    "        self.gridy = gradevary\n",
    "        \n",
    "        return gridedbat\n",
    "    \n"
   ]
  },
  {
   "cell_type": "code",
   "execution_count": 3,
   "id": "ff0ec726",
   "metadata": {},
   "outputs": [],
   "source": [
    "#### Importing the data from local directory as a class\n",
    "Baseb = BaseEtopo('/home/joao/Downloads/etopo2_mundo.mat')"
   ]
  },
  {
   "cell_type": "markdown",
   "id": "55accd60",
   "metadata": {},
   "source": [
    "To use the Mapa2D class you must need to create a database class before (Baseb), and with this class you can easily plot and visualize 2D maps of a given variable and also plot the bathymetry on the map."
   ]
  },
  {
   "cell_type": "code",
   "execution_count": 4,
   "id": "120fe95e",
   "metadata": {},
   "outputs": [],
   "source": [
    "import cartopy.crs as ccrs\n",
    "import cartopy.feature as cfeature\n",
    "from cartopy.mpl.gridliner import LONGITUDE_FORMATTER, LATITUDE_FORMATTER\n",
    "\n",
    "\n",
    "class Mapa2D():\n",
    "    '''\n",
    "    This class implements easy-to-go visualization tools for 2D variables (organized as lat x lon)\n",
    "    using libraries from cartopy. This is just a simple code that helps me to plotting data\n",
    "    '''\n",
    "    \n",
    "    lonz = Baseb.lonz\n",
    "    latz = Baseb.latz\n",
    "    Batz = Baseb.batz\n",
    "    \n",
    "    def __init__(self,lon,lat,var,color='jet',cloro=False):\n",
    "        self.lat = lat\n",
    "        self.lon = lon\n",
    "        self.cor = color\n",
    "        if cloro:\n",
    "            self.var = np.log(var)\n",
    "        else:\n",
    "            self.var = var\n",
    "    \n",
    "    def ShowMap(self,facecolor='#fecf78',**kwargs):\n",
    "        fig = kwargs.get('fig')\n",
    "        ax = kwargs.get('ax')\n",
    "        if fig and ax:\n",
    "            ax.add_feature(cfeature.LAND,facecolor=facecolor, edgecolor='k',zorder=99)\n",
    "        else:\n",
    "            f = plt.figure(figsize=(8,8))\n",
    "            ax=f.add_subplot(1, 1, 1,projection=ccrs.PlateCarree(),extent=[np.min(self.lon), np.max(self.lon), np.min(self.lat), np.max(self.lat)])\n",
    "            ax.add_feature(cfeature.LAND,facecolor=facecolor, edgecolor='k',zorder=99)\n",
    "        self.ax = ax\n",
    "        \n",
    "    def Contourfbat(self,levels=[-2000,-1000,-250,-100]):\n",
    "        self.ax.contourf(np.squeeze(lonz[::4]),np.squeeze(latz[::4]),Batz[::4,::4],levels=levels,cmap='ocean')\n",
    "\n",
    "    def Contourbat(self,levels=[-2000,-1000,-250,-100],color='k',width=1):\n",
    "        self.ax.contour(np.squeeze(lonz[::4]),np.squeeze(latz[::4]),Batz[::4,::4],levels=levels,colors=color,linewidths=width)\n",
    "        \n",
    "    def Contourlevel(self,value,color='k',width=2,style='-'):\n",
    "        self.ax.contour(np.squeeze(lonz[::4]),np.squeeze(latz[::4]),Batz[::4,::4],levels=[-value],colors=color,linewidths=width,linestyles=style,zorder=99)\n",
    "    \n",
    "    def Contourflevel(self,value,color='dimgray'):\n",
    "        self.ax.contourf(np.squeeze(lonz[::4]),np.squeeze(latz[::4]),Batz[::4,::4],levels=[-value,0],colors=color,zorder=99)\n",
    "\n",
    "    def Contourvar(self,levels=np.arange(-2,2.25,.25)):\n",
    "        try:\n",
    "            lv = self.ax.contour(self.lon,self.lat,self.var,levels=levels,colors='k',linewidths=.85)\n",
    "            self.lv = lv\n",
    "        except:\n",
    "            print(\"An error ocurring during the contour plot, please check your variables, they must have compatible sizes!\")\n",
    "        #return ax\n",
    "        #if colorbar:\n",
    "            #plt.colorbar(cv,pad=0.05)\n",
    "        \n",
    "    def Contourfvar(self,levels=np.linspace(-2,2,50),colorbar=False):\n",
    "        try:\n",
    "            cv = self.ax.contourf(self.lon,self.lat,self.var,levels=levels,extend='both',cmap=self.cor)\n",
    "            self.cv = cv\n",
    "        except:\n",
    "            print(\"An error ocurring during the contourf plot, please check your variables, they must have compatible sizes!\")\n",
    "        if colorbar:\n",
    "            plt.colorbar(cv,pad=0.05)\n",
    "            \n",
    "    def TransectValue(self,lon,lat):\n",
    "        print(\"WARNING: This function considers a 2D Map where x-axis and y-axes are latitude and longitude, respectively\")\n",
    "        if len(lon) != len(lat) or len(lon)==1:\n",
    "            print('Transect lat and lon must have the same size and be greater than one single point')\n",
    "            print('If you are looking for a single point, consider using \"Point\" object')\n",
    "        else:\n",
    "            transect_val = []\n",
    "            for x in range(len(lon)):\n",
    "                iy = fnear(self.lon,lon[x])\n",
    "                ix = fnear(self.lat,lat[x])\n",
    "                transect_val.append(self.var[ix,iy])\n",
    "            return np.array(transect_val),lon,lat\n",
    "    \n",
    "    def PointValue(self,lon,lat):\n",
    "        print(\"WARNING: This function considers a 2D Map where x-axis and y-axis are latitude and longitude, respectively\")\n",
    "        if len(lon) != 1 or len(lat) != 1:\n",
    "            print('Point objects must have only one lat/lon data')\n",
    "            print('If you are looking for a transect, consider using \"Transect Value\" object')\n",
    "        else:\n",
    "            iy = fnear(self.lon,lon)\n",
    "            ix = fnear(self.lat,lat)\n",
    "            return self.var[ix,iy],lon,lat\n",
    "        \n",
    "    def PlotPoints(self,lon,lat,color='gray',width=2,size=80):\n",
    "        if len(lon) != len(lat):\n",
    "            print('lat and lon must have the same size')\n",
    "        else:\n",
    "            if len(lon)==1:\n",
    "                cor = color\n",
    "                self.ax.scatter(lon,lat,s=size,edgecolor='k',color=cor)\n",
    "            else:\n",
    "                cor = color\n",
    "                self.ax.plot(lon,lat,linewidth=width,color=cor,marker='.')\n",
    "\n",
    "    def grid(self,lonv=1,latv=1):\n",
    "        \n",
    "        gl = self.ax.gridlines(crs=ccrs.PlateCarree(),draw_labels=True,linewidth=1,\n",
    "                        color='gray', alpha=0.5, linestyle='--',\n",
    "                        xlocs=np.arange(-360, 360, lonv),\n",
    "                        ylocs=np.arange(-90, 90, latv),zorder=99)\n",
    "\n",
    "        gl.left_labels = True\n",
    "        gl.right_labels = False\n",
    "        gl.bottom_labels = True\n",
    "        gl.top_labels = False\n",
    "        gl.xformatter = LONGITUDE_FORMATTER\n",
    "        gl.yformatter = LATITUDE_FORMATTER\n",
    "        \n",
    "    def resize(self,lonnew,latnew):\n",
    "        self.ax.set_xlim([np.min(lonnew),np.max(lonnew)])\n",
    "        self.ax.set_ylim([np.min(latnew),np.max(latnew)])\n",
    "        \n",
    "    def get_axis(self):\n",
    "        return self.ax\n",
    "    \n",
    "    def get_colors(self):\n",
    "        try:\n",
    "            if self.cv:\n",
    "                return self.cv\n",
    "        except:\n",
    "            print('No variable from contourf or contour were find, please check it before getting colors')"
   ]
  },
  {
   "cell_type": "markdown",
   "id": "616a0615",
   "metadata": {},
   "source": [
    "Whats is the file which I'm currently working on?"
   ]
  },
  {
   "cell_type": "code",
   "execution_count": 5,
   "id": "dee2ae57",
   "metadata": {},
   "outputs": [
    {
     "data": {
      "text/plain": [
       "'/home/joao/Downloads/etopo2_mundo.mat'"
      ]
     },
     "execution_count": 5,
     "metadata": {},
     "output_type": "execute_result"
    }
   ],
   "source": [
    "Baseb.file"
   ]
  },
  {
   "cell_type": "code",
   "execution_count": 9,
   "id": "29076d67",
   "metadata": {},
   "outputs": [
    {
     "name": "stdout",
     "output_type": "stream",
     "text": [
      "(-33, [-40], [-20])\n",
      "(-4839, [-30], [-20])\n",
      "(-5009, [-20], [-20])\n"
     ]
    }
   ],
   "source": [
    "### Testing the depth of some points\n",
    "print(Baseb.Point([-40],[-20]))\n",
    "print(Baseb.Point([-30],[-20]))\n",
    "print(Baseb.Point([-20],[-20]))"
   ]
  },
  {
   "cell_type": "code",
   "execution_count": 41,
   "id": "0a9dd4b0",
   "metadata": {},
   "outputs": [
    {
     "data": {
      "image/png": "[encoded data removed]",
      "text/plain": [
       "<Figure size 432x288 with 1 Axes>"
      ]
     },
     "metadata": {
      "needs_background": "light"
     },
     "output_type": "display_data"
    }
   ],
   "source": [
    "### Creating a zonal transect at 20°S and getting their depth\n",
    "lonp = np.linspace(-42,15,100)\n",
    "latp = np.zeros(np.shape(lonp))-20\n",
    "\n",
    "transect = Baseb.Transect(lonp,latp)\n",
    "\n",
    "plt.figure(figsize=(6,4))\n",
    "plt.plot(lonp,transect[0])\n",
    "plt.fill_between(lonp,np.min(transect[0])-200,transect[0],color='k',zorder=99)\n",
    "plt.ylabel(\"depth [m]\")\n",
    "plt.xlabel(\"longitude [°]\")\n",
    "plt.xlim([lonp[0],lonp[-1]])\n",
    "plt.ylim([np.min(transect[0])-200,150])\n",
    "plt.grid()"
   ]
  },
  {
   "cell_type": "code",
   "execution_count": null,
   "id": "24cbc938",
   "metadata": {},
   "outputs": [],
   "source": []
  }
 ],
 "metadata": {
  "kernelspec": {
   "display_name": "Python 3 (ipykernel)",
   "language": "python",
   "name": "python3"
  },
  "language_info": {
   "codemirror_mode": {
    "name": "ipython",
    "version": 3
   },
   "file_extension": ".py",
   "mimetype": "text/x-python",
   "name": "python",
   "nbconvert_exporter": "python",
   "pygments_lexer": "ipython3",
   "version": "3.9.12"
  }
 },
 "nbformat": 4,
 "nbformat_minor": 5
}
